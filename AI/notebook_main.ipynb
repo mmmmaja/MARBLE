{
 "cells": [
  {
   "cell_type": "code",
   "execution_count": null,
   "outputs": [],
   "source": [
    "import sys\n",
    "import vtk\n",
    "from PyQt5.QtWidgets import QApplication\n",
    "from AI.GUI_handler import GUI\n",
    "from AI.fenics import *\n",
    "from AI.mesh_converter import *\n",
    "from AI.material_handler import *\n",
    "from AI.stress_script import StressRelaxation"
   ],
   "metadata": {
    "collapsed": false,
    "pycharm": {
     "name": "#%%\n"
    }
   }
  },
  {
   "cell_type": "code",
   "execution_count": null,
   "outputs": [],
   "source": [
    "FORCE = 1.07\n",
    "\n",
    "# I need to hold the reference to the timer class and destroy it\n",
    "# when the simulation of the relaxation process is over\n",
    "stress_relaxation_ref = None"
   ],
   "metadata": {
    "collapsed": false,
    "pycharm": {
     "name": "#%%\n"
    }
   }
  },
  {
   "cell_type": "code",
   "execution_count": null,
   "outputs": [],
   "source": [
    "def apply_force(fenics, gui, cell_coords=None, F=FORCE, relaxation=True):\n",
    "    \"\"\"\n",
    "    Function that applies a vertex specific force or volume (stable) force across the whole mesh\n",
    "    \"\"\"\n",
    "\n",
    "    global stress_relaxation_ref\n",
    "\n",
    "    if cell_coords is not None:\n",
    "        vertex_ids = fenics.mesh_boost.get_vertex_ids_from_coords(cell_coords)\n",
    "        print(\"Triggered cell force\")\n",
    "\n",
    "        # If the list is empty\n",
    "        if len(vertex_ids) == 0:\n",
    "            print(\"No vertices found\")\n",
    "            return\n",
    "\n",
    "    else:\n",
    "        vertex_ids = None\n",
    "        print(\"Triggered volume force\")\n",
    "\n",
    "    # Immediately apply the force to the body (might change it later and push it to the loop)\n",
    "    print(\"FORCE applied: \", F)\n",
    "    # Calculate the displacement\n",
    "    u = fenics.apply_force(vertex_ids, F)\n",
    "\n",
    "    # UPDATE plot and meshes\n",
    "    fenics.mesh_boost.update_mesh(u)\n",
    "    gui.draw_mesh(fenics.mesh_boost.current_vtk)\n",
    "    gui.plotter.update()\n",
    "\n",
    "    if relaxation:\n",
    "        # Start the stress relaxation process\n",
    "        # Stop existing relaxation process\n",
    "        if stress_relaxation_ref is not None:\n",
    "            stress_relaxation_ref.stop()\n",
    "        stress_relaxation_ref = StressRelaxation(\n",
    "            gui, fenics, u0=u, F0=F, vertex_ids=vertex_ids\n",
    "        )\n",
    "        stress_relaxation_ref.initiate()"
   ],
   "metadata": {
    "collapsed": false,
    "pycharm": {
     "name": "#%%\n"
    }
   }
  },
  {
   "cell_type": "code",
   "execution_count": null,
   "outputs": [],
   "source": [
    "class NoRotateStyle(vtk.vtkInteractorStyleTrackballCamera):\n",
    "\n",
    "    \"\"\"\n",
    "    This class was added to override the default mouse events of the vtkInteractorStyleTrackballCamera class.\n",
    "    It disables the rotation of the mesh when the left mouse button is pressed.\n",
    "    Triggered in Activation mode\n",
    "    \"\"\"\n",
    "\n",
    "    def __init__(self, parent=None, gui=None, fenics=None, *args, **kwargs):\n",
    "\n",
    "        self.gui = gui\n",
    "        self.fenics = fenics\n",
    "\n",
    "        # Mouse pressed flag for mesh activation\n",
    "        self.mouse_pressed = False\n",
    "\n",
    "        # Create a cell picker for the mesh (to map the mouse coordinates to the mesh)\n",
    "        self.picker = vtk.vtkCellPicker()\n",
    "        self.picker.AddPickList(self.gui.mesh_actor)\n",
    "\n",
    "        # Override the default mouse events (disable rotation)\n",
    "        self.AddObserver(\"LeftButtonPressEvent\", self.left_button_press_event)\n",
    "        self.AddObserver(\"MiddleButtonPressEvent\", self.middle_button_press_event)\n",
    "        self.AddObserver(\"RightButtonPressEvent\", self.right_button_press_event)\n",
    "        self.AddObserver(\"LeftButtonReleaseEvent\", self.left_button_release_event)\n",
    "        self.AddObserver(\"MouseMoveEvent\", self.mouse_move_event)\n",
    "\n",
    "        super().__init__(*args, **kwargs)\n",
    "\n",
    "    def left_button_press_event(self, obj, event):\n",
    "        self.mouse_pressed = True\n",
    "\n",
    "    def left_button_release_event(self, obj, event):\n",
    "        self.mouse_pressed = False\n",
    "\n",
    "    def middle_button_press_event(self, obj, event):\n",
    "        # Disable the middle button events\n",
    "        pass\n",
    "\n",
    "    def right_button_press_event(self, obj, event):\n",
    "        # Disable the right button events\n",
    "        pass\n",
    "\n",
    "    def mouse_move_event(self, obj, event):\n",
    "        \"\"\"\n",
    "        Function that is triggered when the mouse is moved.\n",
    "        If self.mouse_pressed is True, it updates the position of the stimuli.\n",
    "        \"\"\"\n",
    "        if self.mouse_pressed:\n",
    "            # Get the mouse coordinates and pick the cell\n",
    "            x, y = self.GetInteractor().GetEventPosition()\n",
    "            self.pick_cell(x, y)\n",
    "\n",
    "    def pick_cell(self, x, y):\n",
    "        # Pick the cell that was clicked\n",
    "        self.picker.Pick(x, y, 0, self.gui.plotter.renderer)\n",
    "        cell_id = self.picker.GetCellId()\n",
    "\n",
    "        if cell_id != -1:\n",
    "            print(f\"Cell {cell_id} picked.\")\n",
    "\n",
    "            # It will return the ids of the 8 points that make up the hexahedron\n",
    "            cell_points_ids = self.picker.GetActor().GetMapper().GetInput().GetCell(cell_id).GetPointIds()\n",
    "\n",
    "            # The points list will contain the coordinates of the points that belong to the cell\n",
    "            points = []\n",
    "            for i in range(cell_points_ids.GetNumberOfIds()):\n",
    "                point_id = cell_points_ids.GetId(i)\n",
    "                points.append(self.picker.GetActor().GetMapper().GetInput().GetPoint(point_id))\n",
    "\n",
    "            # Remove the bottom layer of points (Points with z coordinate == 0)\n",
    "            points = [point for point in points if point[2] != 0]\n",
    "            apply_force(self.fenics, self.gui, points, relaxation=False)"
   ],
   "metadata": {
    "collapsed": false,
    "pycharm": {
     "name": "#%%\n"
    }
   }
  },
  {
   "cell_type": "code",
   "execution_count": null,
   "outputs": [],
   "source": [
    "class Main:\n",
    "\n",
    "    def __init__(self, fenics):\n",
    "        self.fenics = fenics\n",
    "\n",
    "        self.gui = GUI(self.fenics.rank_material, fenics.mesh_boost.current_vtk)\n",
    "        self.add_interactive_events()\n",
    "\n",
    "        \"\"\"\n",
    "        Timer for updating the state during fenics calculations (Starts a new thread)\n",
    "        Documentation:\n",
    "        https://doc.qt.io/qtforpython-5/PySide2/QtCore/QTimer.html\n",
    "        \"\"\"\n",
    "\n",
    "    def add_interactive_events(self):\n",
    "        # Enable cell picking\n",
    "        self.gui.plotter.enable_cell_picking(\n",
    "            callback=lambda cell_id: apply_force(self.fenics, self.gui, cell_id.points, relaxation=True),\n",
    "            font_size=10,\n",
    "            color='white',\n",
    "            point_size=30,\n",
    "            style='wireframe',\n",
    "            line_width=5,\n",
    "            through=False\n",
    "        )\n",
    "\n",
    "        # Add the event on the press of the space bar, apply the force\n",
    "        self.gui.plotter.add_key_event(\n",
    "            'space', lambda: apply_force(self.fenics, self.gui, relaxation=True)\n",
    "        )\n",
    "\n",
    "        # If the enter button is pressed, the interactive mode is toggled\n",
    "        self.gui.plotter.add_key_event('m', self.toggle_interactive)\n",
    "        self.gui.plotter.show()\n",
    "\n",
    "    def toggle_interactive(self):\n",
    "        print(\"Interactive mode toggled\")\n",
    "\n",
    "        if self.gui.plotter.interactor.GetInteractorStyle().__class__ == NoRotateStyle:\n",
    "            self.gui.plotter.interactor.SetInteractorStyle(vtk.vtkInteractorStyleTrackballCamera())\n",
    "            self.gui.add_mode_text(\"Interactive\")\n",
    "        else:\n",
    "            self.gui.add_mode_text(\"Activation\")\n",
    "            self.gui.plotter.interactor.SetInteractorStyle(NoRotateStyle(\n",
    "                gui=self.gui,\n",
    "                fenics=self.fenics,\n",
    "            ))"
   ],
   "metadata": {
    "collapsed": false,
    "pycharm": {
     "name": "#%%\n"
    }
   }
  },
  {
   "cell_type": "code",
   "execution_count": null,
   "outputs": [],
   "source": [
    "_mesh_boost = GridMesh(30, 30, z_function=concave)\n",
    "_fenics = FENICS(_mesh_boost, rubber)\n",
    "Main(_fenics)"
   ],
   "metadata": {
    "collapsed": false,
    "pycharm": {
     "name": "#%%\n"
    }
   }
  }
 ],
 "metadata": {
  "kernelspec": {
   "display_name": "Python 3",
   "language": "python",
   "name": "python3"
  },
  "language_info": {
   "codemirror_mode": {
    "name": "ipython",
    "version": 2
   },
   "file_extension": ".py",
   "mimetype": "text/x-python",
   "name": "python",
   "nbconvert_exporter": "python",
   "pygments_lexer": "ipython2",
   "version": "2.7.6"
  }
 },
 "nbformat": 4,
 "nbformat_minor": 0
}