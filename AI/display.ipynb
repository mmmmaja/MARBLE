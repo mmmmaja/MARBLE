{
 "cells": [
  {
   "cell_type": "code",
   "execution_count": 1,
   "metadata": {
    "collapsed": true,
    "pycharm": {
     "name": "#%%\n"
    }
   },
   "outputs": [],
   "source": [
    "import numpy as np\n",
    "import pyvista as pv\n",
    "import meshio\n",
    "import pyvistaqt as pvqt # For updating plots real time"
   ]
  },
  {
   "cell_type": "code",
   "execution_count": 2,
   "outputs": [],
   "source": [
    "from AI.fenics import *\n",
    "from AI.material_handler import silicon, rubber"
   ],
   "metadata": {
    "collapsed": false,
    "pycharm": {
     "name": "#%%\n"
    }
   }
  },
  {
   "cell_type": "markdown",
   "source": [
    "For scripts use:\n",
    "\n",
    "_from PyQt5.QtWidgets import QApplication_\n",
    "_app = QApplication(sys.argv)_\n",
    "_app.exec_()"
   ],
   "metadata": {
    "collapsed": false,
    "pycharm": {
     "name": "#%% md\n"
    }
   }
  },
  {
   "cell_type": "code",
   "execution_count": 3,
   "outputs": [
    {
     "name": "stdout",
     "output_type": "stream",
     "text": [
      "sfepy: reading mesh (C:/Users/majag/Desktop/marble/MARBLE/AI/meshes/block.mesh)...\n",
      "sfepy:   number of vertices: 525\n",
      "sfepy:   number of cells:\n",
      "sfepy:     3_8: 320\n",
      "sfepy: ...done in 0.01 s\n",
      "sfepy: reading mesh (C:/Users/majag/Desktop/marble/MARBLE/AI/meshes/elbow.mesh)...\n",
      "sfepy:   number of vertices: 1823\n",
      "sfepy:   number of cells:\n",
      "sfepy:     3_4: 8161\n",
      "sfepy: ...done in 0.05 s\n",
      "sfepy: reading mesh (C:/Users/majag/Desktop/marble/MARBLE/AI/meshes/perfusion_micro3d.mesh)...\n",
      "sfepy:   number of vertices: 3728\n",
      "sfepy:   number of cells:\n",
      "sfepy:     3_4: 18161\n",
      "sfepy: ...done in 0.09 s\n",
      "sfepy: reading mesh (C:/Users/majag/Desktop/marble/MARBLE/AI/meshes/acoustics_mesh3d.mesh)...\n",
      "sfepy:   number of vertices: 5272\n",
      "sfepy:   number of cells:\n",
      "sfepy:     3_8: 4380\n",
      "sfepy: ...done in 0.10 s\n",
      "sfepy: reading mesh (meshes/mesh.vtk)...\n",
      "sfepy:   number of vertices: 200\n",
      "sfepy:   number of cells:\n",
      "sfepy:     3_8: 81\n",
      "sfepy: ...done in 0.03 s\n"
     ]
    }
   ],
   "source": [
    "# Create a library of meshes\n",
    "\n",
    "# THICKNESS IS FIXED\n",
    "\n",
    "cuboid = MeshFromFile(\n",
    "    'C:/Users/majag/Desktop/marble/MARBLE/AI/meshes/block.mesh'\n",
    ")\n",
    "\n",
    "elbow = MeshFromFile(\n",
    "    'C:/Users/majag/Desktop/marble/MARBLE/AI/meshes/elbow.mesh'\n",
    ")\n",
    "\n",
    "perfusion = MeshFromFile(\n",
    "    'C:/Users/majag/Desktop/marble/MARBLE/AI/meshes/perfusion_micro3d.mesh'\n",
    ")\n",
    "\n",
    "hexa_mesh = MeshFromFile(\n",
    "        'C:/Users/majag/Desktop/marble/MARBLE/AI/meshes/acoustics_mesh3d.mesh'\n",
    ")\n",
    "\n",
    "hexa = GridMesh(10, 10, z_function=flat)"
   ],
   "metadata": {
    "collapsed": false,
    "pycharm": {
     "name": "#%%\n"
    }
   }
  },
  {
   "cell_type": "code",
   "execution_count": 4,
   "outputs": [],
   "source": [
    "def add_mesh(mesh, plotter):\n",
    "    \"\"\"\n",
    "    Adds the mesh in the .vtk format to the plotter\n",
    "    \"\"\"\n",
    "\n",
    "    plotter.add_mesh(\n",
    "        mesh,\n",
    "        color='deepskyblue',\n",
    "        show_edges=True,\n",
    "        smooth_shading=True,\n",
    "        edge_color='wheat',\n",
    "    )"
   ],
   "metadata": {
    "collapsed": false,
    "pycharm": {
     "name": "#%%\n"
    }
   }
  },
  {
   "cell_type": "markdown",
   "source": [
    "TODO:\n",
    "- Add database of materials\n",
    "- Fix meshes\n",
    "- Show boundary conditions"
   ],
   "metadata": {
    "collapsed": false,
    "pycharm": {
     "name": "#%% md\n"
    }
   }
  },
  {
   "cell_type": "code",
   "execution_count": 5,
   "outputs": [],
   "source": [
    "def activate(mesh, plotter, fenics):\n",
    "\n",
    "    u = fenics.solve()\n",
    "    mesh.update(u)\n",
    "\n",
    "    # Reloading the mesh to the scene\n",
    "    plotter.clear()\n",
    "    add_mesh(mesh.vtk_mesh, plotter)\n",
    "\n",
    "    # Redrawing\n",
    "    plotter.update()"
   ],
   "metadata": {
    "collapsed": false,
    "pycharm": {
     "name": "#%%\n"
    }
   }
  },
  {
   "cell_type": "code",
   "execution_count": 6,
   "outputs": [
    {
     "name": "stdout",
     "output_type": "stream",
     "text": [
      "sfepy: warning: bad element orientation, trying to correct...\n",
      "sfepy: ...corrected\n"
     ]
    }
   ],
   "source": [
    "mesh_boost = hexa\n",
    "_fenics = FENICS(mesh_boost, silicon)"
   ],
   "metadata": {
    "collapsed": false,
    "pycharm": {
     "name": "#%%\n"
    }
   }
  },
  {
   "cell_type": "code",
   "execution_count": 9,
   "outputs": [],
   "source": [
    "def apply_cell_force(ID, fenics, plotter, mesh):\n",
    "    \"\"\"\n",
    "    Function that applies a force to the vertex that was picked\n",
    "    :param ID: ID of the vertex that was picked form the callback\n",
    "    :param fenics: SfePy solver\n",
    "    :return:\n",
    "    \"\"\"\n",
    "    print(\"Cell ID: \", ID)\n",
    "    u = fenics.apply_cell_force(ID).solve()\n",
    "    mesh.update(u)\n",
    "\n",
    "    # Reloading the mesh to the scene\n",
    "    plotter.clear()\n",
    "    add_mesh(mesh.vtk_mesh, plotter)\n",
    "\n",
    "    # Redrawing\n",
    "    plotter.update()"
   ],
   "metadata": {
    "collapsed": false,
    "pycharm": {
     "name": "#%%\n"
    }
   }
  },
  {
   "cell_type": "code",
   "execution_count": 10,
   "outputs": [],
   "source": [
    "\"\"\"\n",
    "Background plotter\n",
    "\n",
    "From documentation:\n",
    "PyVista provides a plotter that enables users to create a rendering window in the background,\n",
    "that remains interactive while the user performs their processing.\n",
    "\n",
    "See documentation for more details:\n",
    "https://qtdocs.pyvista.org/api_reference.html#pyvistaqt.BackgroundPlotter\n",
    "\"\"\"\n",
    "\n",
    "_plotter = pvqt.BackgroundPlotter()\n",
    "\n",
    "# Add the mesh to the plotter\n",
    "add_mesh(mesh_boost.vtk_mesh, _plotter)\n",
    "\n",
    "# Add the event on the press of the space bar\n",
    "_plotter.add_key_event(\"space\", lambda: activate(mesh_boost, _plotter, _fenics))\n",
    "\n",
    "# _plotter.enable_point_picking(\n",
    "#     callback=apply_vertex_force(get_ID, _fenics, mesh_boost, _plotter),\n",
    "#     show_message='Press P to pick a point',\n",
    "#     font_size=10,\n",
    "#     color='lime',\n",
    "#     point_size=30,\n",
    "# )\n",
    "\n",
    "_plotter.enable_cell_picking(\n",
    "    callback=lambda ID: apply_cell_force(ID, _fenics, _plotter, mesh_boost),\n",
    "    font_size=10,\n",
    "    color='lime',\n",
    "    point_size=30,\n",
    "    style='wireframe',\n",
    "    line_width=30,\n",
    "    through=False\n",
    ")\n",
    "\n",
    "_plotter.showFullScreen()"
   ],
   "metadata": {
    "collapsed": false,
    "pycharm": {
     "name": "#%%\n"
    }
   }
  },
  {
   "cell_type": "code",
   "execution_count": 62,
   "outputs": [
    {
     "name": "stdout",
     "output_type": "stream",
     "text": [
      "UnstructuredGrid (0x22abe9662e0)\n",
      "  N Cells:    1\n",
      "  N Points:   4\n",
      "  X Bounds:   4.000e+00, 5.000e+00\n",
      "  Y Bounds:   2.000e+00, 3.000e+00\n",
      "  Z Bounds:   5.300e-01, 5.300e-01\n",
      "  N Arrays:   4\n"
     ]
    }
   ],
   "source": [
    "print(ID_check)"
   ],
   "metadata": {
    "collapsed": false,
    "pycharm": {
     "name": "#%%\n"
    }
   }
  },
  {
   "cell_type": "code",
   "execution_count": null,
   "outputs": [],
   "source": [],
   "metadata": {
    "collapsed": false,
    "pycharm": {
     "name": "#%%\n"
    }
   }
  }
 ],
 "metadata": {
  "kernelspec": {
   "display_name": "Python 3",
   "language": "python",
   "name": "python3"
  },
  "language_info": {
   "codemirror_mode": {
    "name": "ipython",
    "version": 2
   },
   "file_extension": ".py",
   "mimetype": "text/x-python",
   "name": "python",
   "nbconvert_exporter": "python",
   "pygments_lexer": "ipython2",
   "version": "2.7.6"
  }
 },
 "nbformat": 4,
 "nbformat_minor": 0
}