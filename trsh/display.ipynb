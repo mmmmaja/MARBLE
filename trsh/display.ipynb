{
 "cells": [
  {
   "cell_type": "code",
   "execution_count": 48,
   "metadata": {
    "collapsed": true,
    "pycharm": {
     "name": "#%%\n"
    }
   },
   "outputs": [],
   "source": [
    "import pyvistaqt as pvqt # For updating plots real time\n",
    "\n",
    "from AI.fenics import *\n",
    "from AI.material_handler import silicon, rubber"
   ]
  },
  {
   "cell_type": "markdown",
   "source": [
    "[PyvistQT documentation](https://qtdocs.pyvista.org/api_reference.html)\n",
    "\n",
    "\n",
    "For scripts use:\n",
    "\n",
    "_from PyQt5.QtWidgets import QApplication_\n",
    "_app = QApplication(sys.argv)_\n",
    "_app.exec_()\n",
    "\n",
    "TODO:\n",
    "- Add database of materials\n",
    "- Add more complicated meshes\n",
    "- Show boundary conditions\n",
    "- STIMULI handling"
   ],
   "metadata": {
    "collapsed": false,
    "pycharm": {
     "name": "#%% md\n"
    }
   }
  },
  {
   "cell_type": "code",
   "execution_count": 49,
   "outputs": [
    {
     "name": "stdout",
     "output_type": "stream",
     "text": [
      "sfepy: reading mesh (C:/Users/majag/Desktop/marble/MARBLE/AI/meshes/block.mesh)...\n",
      "sfepy:   number of vertices: 525\n",
      "sfepy:   number of cells:\n",
      "sfepy:     3_8: 320\n",
      "sfepy: ...done in 0.01 s\n",
      "sfepy: reading mesh (C:/Users/majag/Desktop/marble/MARBLE/AI/meshes/elbow.mesh)...\n",
      "sfepy:   number of vertices: 1823\n",
      "sfepy:   number of cells:\n",
      "sfepy:     3_4: 8161\n",
      "sfepy: ...done in 0.06 s\n",
      "sfepy: reading mesh (C:/Users/majag/Desktop/marble/MARBLE/AI/meshes/perfusion_micro3d.mesh)...\n",
      "sfepy:   number of vertices: 3728\n",
      "sfepy:   number of cells:\n",
      "sfepy:     3_4: 18161\n",
      "sfepy: ...done in 0.08 s\n",
      "sfepy: reading mesh (C:/Users/majag/Desktop/marble/MARBLE/AI/meshes/acoustics_mesh3d.mesh)...\n",
      "sfepy:   number of vertices: 5272\n",
      "sfepy:   number of cells:\n",
      "sfepy:     3_8: 4380\n",
      "sfepy: ...done in 0.09 s\n",
      "sfepy: reading mesh (meshes/mesh.vtk)...\n",
      "sfepy:   number of vertices: 450\n",
      "sfepy:   number of cells:\n",
      "sfepy:     3_8: 196\n",
      "sfepy: ...done in 0.03 s\n",
      "sfepy: reading mesh (meshes/mesh.vtk)...\n",
      "sfepy:   number of vertices: 450\n",
      "sfepy:   number of cells:\n",
      "sfepy:     3_8: 196\n",
      "sfepy: ...done in 0.02 s\n",
      "sfepy: reading mesh (meshes/mesh.vtk)...\n",
      "sfepy:   number of vertices: 450\n",
      "sfepy:   number of cells:\n",
      "sfepy:     3_8: 196\n",
      "sfepy: ...done in 0.01 s\n",
      "sfepy: reading mesh (meshes/mesh.vtk)...\n",
      "sfepy:   number of vertices: 450\n",
      "sfepy:   number of cells:\n",
      "sfepy:     3_8: 196\n",
      "sfepy: ...done in 0.01 s\n"
     ]
    }
   ],
   "source": [
    "# Create a library of meshes\n",
    "\n",
    "cuboid = MeshFromFile(\n",
    "    'C:/Users/majag/Desktop/marble/MARBLE/AI/meshes/block.mesh'\n",
    ")\n",
    "\n",
    "elbow = MeshFromFile(\n",
    "    'C:/Users/majag/Desktop/marble/MARBLE/AI/meshes/elbow.mesh'\n",
    ")\n",
    "\n",
    "perfusion = MeshFromFile(\n",
    "    'C:/Users/majag/Desktop/marble/MARBLE/AI/meshes/perfusion_micro3d.mesh'\n",
    ")\n",
    "\n",
    "hexa_mesh = MeshFromFile(\n",
    "        'C:/Users/majag/Desktop/marble/MARBLE/AI/meshes/acoustics_mesh3d.mesh'\n",
    ")\n",
    "\n",
    "hexa_flat = GridMesh(15, 15, z_function=flat)\n",
    "\n",
    "hexa_wave = GridMesh(15, 15, z_function=wave)\n",
    "\n",
    "hexa_concave = GridMesh(15, 15, z_function=concave)\n",
    "\n",
    "hexa_convex = GridMesh(15, 15, z_function=convex)"
   ],
   "metadata": {
    "collapsed": false,
    "pycharm": {
     "name": "#%%\n"
    }
   }
  },
  {
   "cell_type": "code",
   "execution_count": 50,
   "outputs": [],
   "source": [
    "def add_mesh(mesh, plotter):\n",
    "    \"\"\"\n",
    "    Adds the mesh in the .vtk format to the plotter\n",
    "    \"\"\"\n",
    "\n",
    "    plotter.add_mesh(\n",
    "        mesh,\n",
    "        color='deepskyblue',\n",
    "        show_edges=True,\n",
    "        smooth_shading=True,\n",
    "        edge_color='wheat',\n",
    "    )"
   ],
   "metadata": {
    "collapsed": false,
    "pycharm": {
     "name": "#%%\n"
    }
   }
  },
  {
   "cell_type": "code",
   "execution_count": 51,
   "outputs": [],
   "source": [
    "mesh_boost = hexa_concave\n",
    "_fenics = FENICS(mesh_boost, silicon)\n",
    "\n",
    "U, IDs = None, None"
   ],
   "metadata": {
    "collapsed": false,
    "pycharm": {
     "name": "#%%\n"
    }
   }
  },
  {
   "cell_type": "code",
   "execution_count": 52,
   "outputs": [],
   "source": [
    "def apply_volume_force(mesh, plotter, fenics):\n",
    "    \"\"\"\n",
    "    Function that applies a volume (stable) force across the whole mesh\n",
    "    :param fenics: SfePy solver\n",
    "    :param plotter: PyVista plotter\n",
    "    :param mesh: Mesh object including the Pyvista mesh\n",
    "    \"\"\"\n",
    "\n",
    "    u = fenics.apply_volume_force()\n",
    "    mesh.update(u)\n",
    "\n",
    "    # Reloading the mesh to the scene\n",
    "    plotter.clear()\n",
    "    add_mesh(mesh.vtk_mesh, plotter)\n",
    "\n",
    "    # Redrawing\n",
    "    plotter.update()"
   ],
   "metadata": {
    "collapsed": false,
    "pycharm": {
     "name": "#%%\n"
    }
   }
  },
  {
   "cell_type": "code",
   "execution_count": 53,
   "outputs": [],
   "source": [
    "def apply_cell_force(cell, fenics, plotter, mesh):\n",
    "    \"\"\"\n",
    "    Function that applies a force to the vertex that was picked\n",
    "    :param cell: cell object that was picked form the callback\n",
    "    :param fenics: SfePy solver\n",
    "    :param plotter: PyVista plotter\n",
    "    :param mesh: Mesh object including the Pyvista mesh\n",
    "    \"\"\"\n",
    "    global U, IDs\n",
    "\n",
    "    vertex_ids = mesh.get_vertex_ids_from_coords(cell.points)\n",
    "\n",
    "    u = fenics.apply_vertex_specific_force(vertex_ids, F=-20)\n",
    "    mesh.update(u)\n",
    "\n",
    "    U = u\n",
    "    IDs = vertex_ids\n",
    "\n",
    "    # Reloading the mesh to the scene\n",
    "    plotter.clear()\n",
    "    add_mesh(mesh.vtk_mesh, plotter)\n",
    "\n",
    "    # Redrawing\n",
    "    plotter.update()"
   ],
   "metadata": {
    "collapsed": false,
    "pycharm": {
     "name": "#%%\n"
    }
   }
  },
  {
   "cell_type": "code",
   "execution_count": 54,
   "outputs": [],
   "source": [
    "\"\"\"\n",
    "Background plotter\n",
    "\n",
    "From documentation:\n",
    "PyVista provides a plotter that enables users to create a rendering window in the background,\n",
    "that remains interactive while the user performs their processing.\n",
    "\n",
    "See documentation for more details:\n",
    "https://qtdocs.pyvista.org/api_reference.html#pyvistaqt.BackgroundPlotter\n",
    "\"\"\"\n",
    "\n",
    "_plotter = pvqt.BackgroundPlotter()\n",
    "\n",
    "# Add the mesh to the plotter\n",
    "add_mesh(mesh_boost.vtk_mesh, _plotter)\n",
    "\n",
    "# Add the event on the press of the space bar\n",
    "_plotter.add_key_event(\"space\", lambda: apply_volume_force(mesh_boost, _plotter, _fenics))\n",
    "\n",
    "\n",
    "_plotter.enable_cell_picking(\n",
    "    callback=lambda cell: apply_cell_force(cell, _fenics, _plotter, mesh_boost),\n",
    "    font_size=10,\n",
    "    color='black',\n",
    "    point_size=30,\n",
    "    style='wireframe',\n",
    "    line_width=5,\n",
    "    through=False\n",
    ")\n",
    "\n",
    "_plotter.showFullScreen()"
   ],
   "metadata": {
    "collapsed": false,
    "pycharm": {
     "name": "#%%\n"
    }
   }
  },
  {
   "cell_type": "code",
   "execution_count": 55,
   "outputs": [
    {
     "name": "stdout",
     "output_type": "stream",
     "text": [
      "maximum displacement x: 0.0007775502190402611\n",
      "maximum displacement y: 0.0007775502190402598\n",
      "maximum displacement z: 0.039524792866405895\n"
     ]
    }
   ],
   "source": [
    "print('maximum displacement x:', np.abs(U[:, 0]).max())\n",
    "print('maximum displacement y:', np.abs(U[:, 1]).max())\n",
    "print('maximum displacement z:', np.abs(U[:, 2]).max())"
   ],
   "metadata": {
    "collapsed": false,
    "pycharm": {
     "name": "#%%\n"
    }
   }
  },
  {
   "cell_type": "code",
   "execution_count": 56,
   "outputs": [
    {
     "data": {
      "text/plain": "[112, 113, 127, 128]"
     },
     "execution_count": 56,
     "metadata": {},
     "output_type": "execute_result"
    }
   ],
   "source": [
    "IDs"
   ],
   "metadata": {
    "collapsed": false,
    "pycharm": {
     "name": "#%%\n"
    }
   }
  },
  {
   "cell_type": "code",
   "execution_count": null,
   "outputs": [],
   "source": [],
   "metadata": {
    "collapsed": false,
    "pycharm": {
     "name": "#%%\n"
    }
   }
  }
 ],
 "metadata": {
  "kernelspec": {
   "display_name": "Python 3",
   "language": "python",
   "name": "python3"
  },
  "language_info": {
   "codemirror_mode": {
    "name": "ipython",
    "version": 2
   },
   "file_extension": ".py",
   "mimetype": "text/x-python",
   "name": "python",
   "nbconvert_exporter": "python",
   "pygments_lexer": "ipython2",
   "version": "2.7.6"
  }
 },
 "nbformat": 4,
 "nbformat_minor": 0
}